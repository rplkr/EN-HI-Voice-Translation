{
 "cells": [
  {
   "cell_type": "code",
   "execution_count": null,
   "id": "e0f13937-aeff-4d36-bed7-7b69077a1656",
   "metadata": {
    "scrolled": true
   },
   "outputs": [],
   "source": [
    "%pip install SpeechRecognition\n",
    "%pip install pyaudio\n",
    "%pip install gtts\n",
    "%pip install pygame\n",
    "%pip install googletrans==3.1.0a0"
   ]
  },
  {
   "cell_type": "code",
   "execution_count": 10,
   "id": "62985ba1-66b0-44ac-990d-2337601a9b47",
   "metadata": {},
   "outputs": [
    {
     "data": {
      "text/plain": [
       "{'index': 1,\n",
       " 'structVersion': 2,\n",
       " 'name': 'Microphone Array (Realtek(R) Au',\n",
       " 'hostApi': 0,\n",
       " 'maxInputChannels': 2,\n",
       " 'maxOutputChannels': 0,\n",
       " 'defaultLowInputLatency': 0.09,\n",
       " 'defaultLowOutputLatency': 0.09,\n",
       " 'defaultHighInputLatency': 0.18,\n",
       " 'defaultHighOutputLatency': 0.18,\n",
       " 'defaultSampleRate': 44100.0}"
      ]
     },
     "execution_count": 10,
     "metadata": {},
     "output_type": "execute_result"
    }
   ],
   "source": [
    "import pyaudio\n",
    "pa = pyaudio.PyAudio()\n",
    "pa.get_default_input_device_info()"
   ]
  },
  {
   "cell_type": "code",
   "execution_count": 11,
   "id": "7a42ce80-aa1c-4d98-a853-38f452db7d76",
   "metadata": {},
   "outputs": [
    {
     "name": "stdout",
     "output_type": "stream",
     "text": [
      "afrikaans | albanian | amharic | arabic | armenian | azerbaijani | basque | belarusian | bengali | bosnian | bulgarian | catalan | cebuano | chichewa | chinese (simplified) | chinese (traditional) | corsican | croatian | czech | danish | dutch | english | esperanto | estonian | filipino | finnish | french | frisian | galician | georgian | german | greek | gujarati | haitian creole | hausa | hawaiian | hebrew | hebrew | hindi | hmong | hungarian | icelandic | igbo | indonesian | irish | italian | japanese | javanese | kannada | kazakh | khmer | korean | kurdish (kurmanji) | kyrgyz | lao | latin | latvian | lithuanian | luxembourgish | macedonian | malagasy | malay | malayalam | maltese | maori | marathi | mongolian | myanmar (burmese) | nepali | norwegian | odia | pashto | persian | polish | portuguese | punjabi | romanian | russian | samoan | scots gaelic | serbian | sesotho | shona | sindhi | sinhala | slovak | slovenian | somali | spanish | sundanese | swahili | swedish | tajik | tamil | telugu | thai | turkish | ukrainian | urdu | uyghur | uzbek | vietnamese | welsh | xhosa | yiddish | yoruba | zulu | "
     ]
    }
   ],
   "source": [
    "for i in list(googletrans.LANGUAGES.values()):\n",
    "    print(i, end=\" | \")"
   ]
  },
  {
   "cell_type": "code",
   "execution_count": 20,
   "id": "24d823da-ff95-4b9e-b037-46ccc590b942",
   "metadata": {},
   "outputs": [
    {
     "name": "stdout",
     "output_type": "stream",
     "text": [
      "Say 'Another language' if you want to change the language\n",
      "Say 'Stop' if you want to stop\n",
      "--------------------------------\n"
     ]
    },
    {
     "name": "stdin",
     "output_type": "stream",
     "text": [
      "Enter the language you want to translate to:  hindi\n"
     ]
    },
    {
     "name": "stdout",
     "output_type": "stream",
     "text": [
      " \n",
      "Listening...\n",
      "Recognizing...\n",
      "You : Hello how are you\n",
      "Hindi translation : नमस्ते, आप कैसे हैं\n",
      " \n",
      "Listening...\n",
      "Recognizing...\n",
      "You : Another language\n",
      "--------------------------------\n"
     ]
    },
    {
     "name": "stdin",
     "output_type": "stream",
     "text": [
      "Enter the language you want to translate to:  russian\n"
     ]
    },
    {
     "name": "stdout",
     "output_type": "stream",
     "text": [
      " \n",
      "Listening...\n",
      "Recognizing...\n",
      "You : Where are you\n",
      "Russian translation : Где ты\n",
      " \n",
      "Listening...\n",
      "Recognizing...\n",
      "You : Another language\n",
      "--------------------------------\n"
     ]
    },
    {
     "name": "stdin",
     "output_type": "stream",
     "text": [
      "Enter the language you want to translate to:  punjabi\n"
     ]
    },
    {
     "name": "stdout",
     "output_type": "stream",
     "text": [
      " \n",
      "Listening...\n",
      "Recognizing...\n",
      "You : Tumne khana khaya\n",
      "Punjabi translation : ਕੀ ਤੁਸੀਂ ਖਾਧਾ\n",
      " \n",
      "Listening...\n",
      "Recognizing...\n",
      "You : Another language\n",
      "--------------------------------\n"
     ]
    },
    {
     "name": "stdin",
     "output_type": "stream",
     "text": [
      "Enter the language you want to translate to:  english\n"
     ]
    },
    {
     "name": "stdout",
     "output_type": "stream",
     "text": [
      " \n",
      "Listening...\n",
      "Recognizing...\n",
      "You : Audio translation is working well\n",
      "English translation : Audio translation is working well\n",
      " \n",
      "Listening...\n",
      "Recognizing...\n",
      "You : Another language\n",
      "--------------------------------\n"
     ]
    },
    {
     "name": "stdin",
     "output_type": "stream",
     "text": [
      "Enter the language you want to translate to:  english\n"
     ]
    },
    {
     "name": "stdout",
     "output_type": "stream",
     "text": [
      " \n",
      "Listening...\n",
      "Recognizing...\n",
      "You : Audio translation acche se kam kar raha hai\n",
      "English translation : Audio translation is working well\n",
      " \n",
      "Listening...\n",
      "Recognizing...\n",
      "You : Stop\n",
      " \n",
      "Stopping...\n"
     ]
    }
   ],
   "source": [
    "import googletrans \n",
    "from googletrans import LANGUAGES\n",
    "import speech_recognition as sr\n",
    "from gtts import gTTS\n",
    "import pygame\n",
    "import os\n",
    "\n",
    "# Initialize the recognizer\n",
    "r = sr.Recognizer()\n",
    "\n",
    "\n",
    "print(\"Say 'Another language' if you want to change the language\")\n",
    "print(\"Say 'Stop' if you want to stop\")\n",
    "print(\"--------------------------------\")\n",
    "language = input(\"Enter the language you want to translate to: \")\n",
    "print(\" \")\n",
    "\n",
    "def record_text():\n",
    "    # Loop in case of errors\n",
    "    while True:\n",
    "        try:\n",
    "            # Use the microphone as source for input\n",
    "            with sr.Microphone() as source:\n",
    "                \n",
    "                # Prepare recognizer to receive input\n",
    "                r.adjust_for_ambient_noise(source=source,duration=0.2)\n",
    "                \n",
    "                print(\"Listening...\")\n",
    "                # Listens for the user's input\n",
    "                audio = r.listen(source)\n",
    "                \n",
    "                print(\"Recognizing...\")\n",
    "                # Using Google to recognize audio\n",
    "                MyText = r.recognize_google(audio)\n",
    "                \n",
    "                return MyText.capitalize() \n",
    "                \n",
    "        except sr.RequestError as e:\n",
    "            print(f\"Could not request results; {e}\")\n",
    "            print(\" \") \n",
    "            \n",
    "        except sr.UnknownValueError:\n",
    "            print(\"Unknown error occurred\")\n",
    "            print(\" \") \n",
    "\n",
    "def translator(text):\n",
    "    \n",
    "    # Create a Translator object for translation\n",
    "    translator = googletrans.Translator()\n",
    "\n",
    "    # Getting the language code\n",
    "    for lang_code, lang_name in LANGUAGES.items():\n",
    "        if language in lang_name:\n",
    "            code=lang_code\n",
    "\n",
    "    # Translate the given text to Specified language (dest=code)\n",
    "    translated_text = translator.translate(text, dest=code)\n",
    "\n",
    "    # Return the translated text\n",
    "    return translated_text.text\n",
    "\n",
    "def text_to_speech(text):\n",
    "    filename = \"audio1.mp3\"\n",
    "\n",
    "        \n",
    "    # Initialize the pygame mixer\n",
    "    pygame.mixer.init()\n",
    "\n",
    "    # Stop the mixer if it's playing any music\n",
    "    pygame.mixer.music.stop()\n",
    "    pygame.mixer.quit()\n",
    "\n",
    "    # Remove the existing file if it exists\n",
    "    if os.path.exists(filename):\n",
    "        os.remove(filename)\n",
    "        \n",
    "    # Convert the text to speech and save the new audio file\n",
    "    sound = gTTS(text)\n",
    "    sound.save(filename)\n",
    "    \n",
    "    # Initialize the pygame mixer again\n",
    "    pygame.mixer.init()\n",
    "    \n",
    "    # Load and play the saved audio file\n",
    "    pygame.mixer.music.load(filename)\n",
    "    pygame.mixer.music.play()\n",
    "    \n",
    "    # Wait until the sound finishes playing\n",
    "    while pygame.mixer.music.get_busy():\n",
    "        continue\n",
    "    \n",
    "\n",
    "# Continuously listen and print the recognized text -- Say \"Stop\" for quitiing\n",
    "while True:\n",
    "    text = record_text()\n",
    "    print(\"You :\",text)\n",
    "    if text==\"Another language\":\n",
    "        print(\"--------------------------------\")\n",
    "        language = input(\"Enter the language you want to translate to: \")\n",
    "        print(\" \")\n",
    "    elif text == 'Stop': \n",
    "        print(\" \")\n",
    "        print(\"Stopping...\")\n",
    "        text_to_speech(\"Stopping...\")\n",
    "        break\n",
    "    else:\n",
    "        text=translator(text)\n",
    "        print(f\"{language.capitalize()} translation :\",text)\n",
    "        text_to_speech(text)\n",
    "        print(\" \")"
   ]
  },
  {
   "cell_type": "code",
   "execution_count": null,
   "id": "e691c537-8252-421d-9de7-7300a983d253",
   "metadata": {},
   "outputs": [],
   "source": []
  },
  {
   "cell_type": "code",
   "execution_count": null,
   "id": "e56f5c9a-a85c-4902-8517-0cc2aeeeb436",
   "metadata": {},
   "outputs": [],
   "source": []
  },
  {
   "cell_type": "code",
   "execution_count": null,
   "id": "cd6ff3d3-5dea-49c6-ae51-e754fccce9ad",
   "metadata": {},
   "outputs": [],
   "source": []
  },
  {
   "cell_type": "code",
   "execution_count": null,
   "id": "1bd15b02-2d7b-48ec-9974-4e747fb9dd61",
   "metadata": {},
   "outputs": [],
   "source": []
  },
  {
   "cell_type": "code",
   "execution_count": null,
   "id": "9133fd27-2d88-4df5-8bbf-18cd22bd5f55",
   "metadata": {},
   "outputs": [],
   "source": []
  },
  {
   "cell_type": "code",
   "execution_count": null,
   "id": "c24e0ec0-8d7c-464b-b9a7-09d7b7ff3627",
   "metadata": {},
   "outputs": [],
   "source": []
  },
  {
   "cell_type": "code",
   "execution_count": null,
   "id": "dca1affd-16bd-464b-926a-c0e26df2e067",
   "metadata": {},
   "outputs": [],
   "source": []
  },
  {
   "cell_type": "code",
   "execution_count": null,
   "id": "4f8f1e70-658e-4426-9522-3c050353ec5c",
   "metadata": {},
   "outputs": [],
   "source": []
  },
  {
   "cell_type": "code",
   "execution_count": null,
   "id": "2b0fcff0-19af-44a7-a244-3e76ec5af016",
   "metadata": {},
   "outputs": [],
   "source": []
  },
  {
   "cell_type": "code",
   "execution_count": null,
   "id": "754ada9e-e4c4-46d7-bb57-eab06df41396",
   "metadata": {},
   "outputs": [],
   "source": []
  }
 ],
 "metadata": {
  "kernelspec": {
   "display_name": "Python 3 (ipykernel)",
   "language": "python",
   "name": "python3"
  },
  "language_info": {
   "codemirror_mode": {
    "name": "ipython",
    "version": 3
   },
   "file_extension": ".py",
   "mimetype": "text/x-python",
   "name": "python",
   "nbconvert_exporter": "python",
   "pygments_lexer": "ipython3",
   "version": "3.11.7"
  }
 },
 "nbformat": 4,
 "nbformat_minor": 5
}
