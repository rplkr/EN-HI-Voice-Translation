{
 "cells": [
  {
   "cell_type": "code",
   "execution_count": null,
   "id": "e0f13937-aeff-4d36-bed7-7b69077a1656",
   "metadata": {
    "scrolled": true
   },
   "outputs": [],
   "source": [
    "%pip install SpeechRecognition\n",
    "%pip install pyaudio\n",
    "%pip install gtts\n",
    "%pip install pygame\n",
    "%pip install googletrans==3.1.0a0"
   ]
  },
  {
   "cell_type": "code",
   "execution_count": null,
   "id": "62985ba1-66b0-44ac-990d-2337601a9b47",
   "metadata": {},
   "outputs": [],
   "source": [
    "import pyaudio\n",
    "pa = pyaudio.PyAudio()\n",
    "pa.get_default_input_device_info()"
   ]
  },
  {
   "cell_type": "code",
   "execution_count": 14,
   "id": "db3ec69a-dedd-4c16-b99c-c84c583d0f88",
   "metadata": {},
   "outputs": [
    {
     "name": "stdout",
     "output_type": "stream",
     "text": [
      "Listening...\n",
      "Recognizing...\n",
      "You : Hello how are you\n",
      "Hindi translation : नमस्ते, आप कैसे हैं\n",
      " \n",
      "Listening...\n",
      "Recognizing...\n",
      "You : What are you doing\n",
      "Hindi translation : आप क्या कर रहे हो\n",
      " \n",
      "Listening...\n",
      "Recognizing...\n",
      "You : Stop\n",
      "Hindi translation : रुकना\n",
      " \n",
      "Stopping...\n"
     ]
    }
   ],
   "source": [
    "from googletrans import Translator\n",
    "import speech_recognition as sr\n",
    "from gtts import gTTS\n",
    "import pygame\n",
    "import os\n",
    "\n",
    "# Initialize the recognizer\n",
    "r = sr.Recognizer()\n",
    "\n",
    "\n",
    "def record_text():\n",
    "    # Loop in case of errors\n",
    "    while True:\n",
    "        try:\n",
    "            # Use the microphone as source for input\n",
    "            with sr.Microphone() as source:\n",
    "                \n",
    "                # Prepare recognizer to receive input\n",
    "                r.adjust_for_ambient_noise(source=source,duration=0.2)\n",
    "                \n",
    "                print(\"Listening...\")\n",
    "                # Listens for the user's input\n",
    "                audio = r.listen(source)\n",
    "                \n",
    "                print(\"Recognizing...\")\n",
    "                # Using Google to recognize audio\n",
    "                MyText = r.recognize_google(audio)\n",
    "                \n",
    "                return MyText.capitalize() \n",
    "                \n",
    "        except sr.RequestError as e:\n",
    "            print(f\"Could not request results; {e}\")\n",
    "            print(\" \") \n",
    "            \n",
    "        except sr.UnknownValueError:\n",
    "            print(\"Unknown error occurred\")\n",
    "            print(\" \") \n",
    "\n",
    "def translator(text):\n",
    "    translater=Translator()\n",
    "    translated_text=translater.translate(text,dest=\"hi\")\n",
    "    return translated_text.text\n",
    "\n",
    "def text_to_speech(text):\n",
    "    filename = \"audio.mp3\"\n",
    "\n",
    "        \n",
    "    # Initialize the pygame mixer\n",
    "    pygame.mixer.init()\n",
    "\n",
    "    # Stop the mixer if it's playing any music\n",
    "    pygame.mixer.music.stop()\n",
    "    pygame.mixer.quit()\n",
    "\n",
    "    # Remove the existing file if it exists\n",
    "    if os.path.exists(filename):\n",
    "        os.remove(filename)\n",
    "        \n",
    "    # Convert the text to speech and save the new audio file\n",
    "    sound = gTTS(text, lang=\"hi\")\n",
    "    sound.save(filename)\n",
    "    \n",
    "    # Initialize the pygame mixer again\n",
    "    pygame.mixer.init()\n",
    "    \n",
    "    # Load and play the saved audio file\n",
    "    pygame.mixer.music.load(filename)\n",
    "    pygame.mixer.music.play()\n",
    "    \n",
    "    # Wait until the sound finishes playing\n",
    "    while pygame.mixer.music.get_busy():\n",
    "        continue\n",
    "    \n",
    "\n",
    "# Continuously listen and print the recognized text -- Say \"Stop\" for quitiing\n",
    "while True:\n",
    "    text = record_text()\n",
    "    print(\"You :\",text)\n",
    "    text=translator(text)\n",
    "    if text == 'रुकना': \n",
    "        print(\"Hindi translation :\",text)\n",
    "        print(\" \")\n",
    "        print(\"Stopping...\")\n",
    "        text_to_speech(\"Stopping...\")\n",
    "        break\n",
    "    else:\n",
    "        print(\"Hindi translation :\",text)\n",
    "        text_to_speech(text)\n",
    "        print(\" \")"
   ]
  },
  {
   "cell_type": "code",
   "execution_count": null,
   "id": "e691c537-8252-421d-9de7-7300a983d253",
   "metadata": {},
   "outputs": [],
   "source": []
  },
  {
   "cell_type": "code",
   "execution_count": null,
   "id": "e56f5c9a-a85c-4902-8517-0cc2aeeeb436",
   "metadata": {},
   "outputs": [],
   "source": []
  },
  {
   "cell_type": "code",
   "execution_count": null,
   "id": "c24e0ec0-8d7c-464b-b9a7-09d7b7ff3627",
   "metadata": {},
   "outputs": [],
   "source": []
  },
  {
   "cell_type": "code",
   "execution_count": null,
   "id": "dca1affd-16bd-464b-926a-c0e26df2e067",
   "metadata": {},
   "outputs": [],
   "source": []
  }
 ],
 "metadata": {
  "kernelspec": {
   "display_name": "Python 3 (ipykernel)",
   "language": "python",
   "name": "python3"
  },
  "language_info": {
   "codemirror_mode": {
    "name": "ipython",
    "version": 3
   },
   "file_extension": ".py",
   "mimetype": "text/x-python",
   "name": "python",
   "nbconvert_exporter": "python",
   "pygments_lexer": "ipython3",
   "version": "3.11.7"
  }
 },
 "nbformat": 4,
 "nbformat_minor": 5
}
